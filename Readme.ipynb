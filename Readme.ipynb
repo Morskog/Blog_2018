{
 "cells": [
  {
   "cell_type": "markdown",
   "metadata": {},
   "source": [
    "## Instalassions:\n",
    "The project has been done in the Anaconda enviroment with python 3.6 No packages outside anaconda is nescessary.\n",
    "\n",
    "## Motivation:\n",
    "This project has been conducted as a part of Udacity's Data Scientist Nanodegree. The Students were to pick a dataset, come up with some questions and answer those questions through a blogpost. The questions I choos was:\n",
    "\n",
    "- Is there any connection between getting up early and salary?\n",
    "- Which model can predict the best?\n",
    "- Do the model predict bether if the features are increasing?\n",
    "\n",
    "## Summary:\n",
    "There are many blogpost on the net that have analysed this data set over the years. But I have never seen anybody that have looked at the wakeup time, out time, exercise and so on regarding t0 salary.\n",
    "\n",
    "The main point in what I found out was that there is not much connection between the wake up time and salary. All of the regressions model that have been tried out give almost the same ansver. Even if you add on more features about the same theme the ansver did not change much.\n",
    "\n",
    "Did not get anny higher accuracy than about 2 % even if the estimators increased to almost half of the dataset. \n",
    "\n",
    "## Files:\n",
    "\n",
    "The project contains a Jupyter notebook where all the technical sides of the project has been conducted.\n",
    "A blogpost on Medium --> https://medium.com/@mortenskogly/do-you-got-higher-salary-if-you-get-up-in-the-morning-1a83a5a682cd.  A folder with the raw data and this readme file.\n",
    "\n",
    "## How to interact with this project:\n",
    "\n",
    "I recomed to read the blogpost and some of the other blogpost about the same theam. Stock Overflow have made this dataset public for sveral years. There is a lot of inoformation in the raw data and there is many ways to look into this dataset. I tried to do it another way than I found on the net.\n",
    "\n",
    "Feal free to replicate or read the technical part of the project. You can read through the jupyter notebook and interact with it if you want. The raw data is in the folder called \"Data\" or on the Stock Overflow side: \n",
    "\n",
    "Licensing, Authors, Acknowledgements, etc.\n",
    "The project has been comnpleted by myself.\n"
   ]
  },
  {
   "cell_type": "code",
   "execution_count": null,
   "metadata": {},
   "outputs": [],
   "source": []
  }
 ],
 "metadata": {
  "kernelspec": {
   "display_name": "Python [conda env:anaconda3]",
   "language": "python",
   "name": "conda-env-anaconda3-py"
  },
  "language_info": {
   "codemirror_mode": {
    "name": "ipython",
    "version": 3
   },
   "file_extension": ".py",
   "mimetype": "text/x-python",
   "name": "python",
   "nbconvert_exporter": "python",
   "pygments_lexer": "ipython3",
   "version": "3.6.6"
  }
 },
 "nbformat": 4,
 "nbformat_minor": 2
}
